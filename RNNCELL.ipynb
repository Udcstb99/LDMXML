{
 "cells": [
  {
   "cell_type": "code",
   "execution_count": 1,
   "id": "41c083c3",
   "metadata": {},
   "outputs": [
    {
     "name": "stderr",
     "output_type": "stream",
     "text": [
      "2023-03-14 09:53:03.389367: I tensorflow/core/platform/cpu_feature_guard.cc:193] This TensorFlow binary is optimized with oneAPI Deep Neural Network Library (oneDNN) to use the following CPU instructions in performance-critical operations:  SSE4.1 SSE4.2 AVX AVX2 FMA\n",
      "To enable them in other operations, rebuild TensorFlow with the appropriate compiler flags.\n"
     ]
    }
   ],
   "source": [
    "import numpy as np\n",
    "import tensorflow as tf\n",
    "#import tensorflow.compat.v1 as tf\n",
    "#tf.disable_v2_behavior()\n",
    "\n",
    "import time\n",
    "from tensorflow import keras\n",
    "from tensorflow.keras.models import Model, Sequential\n",
    "from tensorflow.keras.layers import Dense, Dropout, Flatten, Input, Activation\n",
    "from tensorflow.keras.layers import Conv2D, MaxPooling2D\n",
    "from tensorflow.keras.layers import TimeDistributed\n",
    "from tensorflow.keras.layers import Lambda, concatenate\n",
    "from tensorflow.keras.layers import LSTM, GRU, SimpleRNN, RNN\n",
    "\n",
    "from tensorflow.keras.optimizers import SGD, Adam, RMSprop, Nadam\n",
    "from tensorflow.keras import backend as K\n",
    "\n",
    "from sklearn.metrics import *\n",
    "\n",
    "import matplotlib\n",
    "import matplotlib.pyplot as plt\n",
    "\n",
    "from tensorflow.keras.utils import to_categorical, plot_model\n",
    "\n",
    "import uproot as up \n",
    "\n",
    "import sys\n",
    "\n",
    "import matplotlib.pyplot as plt\n",
    "\n",
    "import numpy as np \n",
    "\n",
    "import awkward as ak\n",
    "\n",
    "\n",
    "from mpl_toolkits import mplot3d\n",
    "from tensorflow.keras import layers\n",
    "\n",
    "import math as m\n",
    "\n",
    "import tensorflow as tf\n",
    "\n",
    "\n",
    "import pandas as pd\n",
    "\n",
    "#import tensorflow as tf \n"
   ]
  },
  {
   "cell_type": "code",
   "execution_count": 46,
   "id": "6ec7951c",
   "metadata": {},
   "outputs": [],
   "source": [
    "class DataExtractor():\n",
    "    def __init__(self,CSVNumber, Alt,n):\n",
    "        #self.rootfile = rootfile\n",
    "        self.CSVNumber = CSVNumber \n",
    "        self.Alt = Alt\n",
    "        self.n = n \n",
    "    def Get(self):\n",
    "        Cr = pd.read_csv('/Users/jacoblindahl/Cell{}.csv'.format(self.CSVNumber))\n",
    "        \n",
    "        Craw = Cr.fillna(0)\n",
    "        \n",
    "        Mraw = pd.read_csv('/Users/jacoblindahl/Module{}.csv'.format(self.CSVNumber))\n",
    "        \n",
    "        Lraw = pd.read_csv('/Users/jacoblindahl/Layer{}.csv'.format(self.CSVNumber))\n",
    "        \n",
    "        Eraw = pd.read_csv('/Users/jacoblindahl/Energy{}.csv'.format(self.CSVNumber)) \n",
    "        \n",
    "        NR = len(Craw.axes[0])\n",
    "        \n",
    "        NC = len(Craw.axes[1])\n",
    "        \n",
    "        C = []\n",
    "        \n",
    "        M = []\n",
    "        \n",
    "        L = []\n",
    "        \n",
    "        E = []\n",
    "        \n",
    "        for i in range(NR):\n",
    "            Ce = []\n",
    "            \n",
    "            Me = []\n",
    "            \n",
    "            Le = []\n",
    "            \n",
    "            Ee = []\n",
    "            \n",
    "            for j in range(NC):\n",
    "                D = Craw['{}'.format(j)][i]\n",
    "                #print(D)\n",
    "                #print()\n",
    "                if D != 0:\n",
    "                    Ce.append(int(Craw['{}'.format(j)][i]))\n",
    "                    Me.append(int(Mraw['{}'.format(j)][i]))\n",
    "                    Le.append(int(Lraw['{}'.format(j)][i]))\n",
    "                    Ee.append(int(Eraw['{}'.format(j)][i]))\n",
    "        \n",
    "            C.append(Ce)\n",
    "            M.append(Me)\n",
    "            L.append(Le)\n",
    "            E.append(Ee)\n",
    "        return C,M,L,E,NR\n",
    "    \n",
    "    def Merger(self):\n",
    "        CN,MN,LN,EN,NN = DataExtractor(self.CSVNumber,False,1).Get()\n",
    "        Merged  = []\n",
    "        if self.Alt == True:\n",
    "            NN = self.n\n",
    "        for i in range(NN):\n",
    "            MM = []\n",
    "            for j in range(len(CN[i])):\n",
    "                MM.append(int((MN[i][j])*1000000+CN[i][j]*1000 + EN[i][j]))\n",
    "            Merged.append(MM)\n",
    "        Merged = np.array(Merged,dtype = 'object')   \n",
    "        return Merged \n",
    "        "
   ]
  },
  {
   "cell_type": "code",
   "execution_count": 49,
   "id": "4337cc71",
   "metadata": {},
   "outputs": [],
   "source": [
    "class DataMerger():\n",
    "    def __init__(self,CSVNumbers, NumberClasses, Alternative, N):\n",
    "        self.CSVNumbers = CSVNumbers\n",
    "        self.NumberClasses = NumberClasses\n",
    "        self.Alternative = Alternative \n",
    "        self.N = N\n",
    "    def ClassMerger(self):\n",
    "        MC = []\n",
    "        YC = []\n",
    "        j = 0\n",
    "        for i in range(len(self.CSVNumbers)):\n",
    "            DataM = DataExtractor(self.CSVNumbers[i],self.Alternative,self.N).Merger()\n",
    "            NL = len(DataM)\n",
    "            MC.append(DataM)\n",
    "            YC.append([j for k in range(NL)])\n",
    "            j = j+1\n",
    "        Xdata = np.concatenate(tuple(MC), axis=0)\n",
    "        DY = np.concatenate(tuple(YC), axis=0)\n",
    "        Ydata = to_categorical(DY,num_classes = self.NumberClasses, dtype='int32')\n",
    "        \n",
    "        return Xdata,Ydata"
   ]
  },
  {
   "cell_type": "code",
   "execution_count": 50,
   "id": "b03d7789",
   "metadata": {},
   "outputs": [
    {
     "name": "stderr",
     "output_type": "stream",
     "text": [
      "/var/folders/wc/c10qf9lx68b8z4gwjr_xxmp00000gn/T/ipykernel_2346/410145529.py:65: VisibleDeprecationWarning: Creating an ndarray from ragged nested sequences (which is a list-or-tuple of lists-or-tuples-or ndarrays with different lengths or shapes) is deprecated. If you meant to do this, you must specify 'dtype=object' when creating the ndarray.\n",
      "  Merged = np.array(Merged)\n",
      "/var/folders/wc/c10qf9lx68b8z4gwjr_xxmp00000gn/T/ipykernel_2346/410145529.py:65: VisibleDeprecationWarning: Creating an ndarray from ragged nested sequences (which is a list-or-tuple of lists-or-tuples-or ndarrays with different lengths or shapes) is deprecated. If you meant to do this, you must specify 'dtype=object' when creating the ndarray.\n",
      "  Merged = np.array(Merged)\n"
     ]
    }
   ],
   "source": [
    "X,Y = DataMerger([1,2],2,False,1).ClassMerger()"
   ]
  },
  {
   "cell_type": "code",
   "execution_count": 51,
   "id": "c8bdab4d",
   "metadata": {},
   "outputs": [
    {
     "name": "stdout",
     "output_type": "stream",
     "text": [
      "(40000,)\n",
      "(40000, 2)\n"
     ]
    }
   ],
   "source": [
    "print(X.shape)\n",
    "print(Y.shape)"
   ]
  },
  {
   "cell_type": "code",
   "execution_count": 58,
   "id": "67dcadce",
   "metadata": {},
   "outputs": [
    {
     "name": "stderr",
     "output_type": "stream",
     "text": [
      "/var/folders/wc/c10qf9lx68b8z4gwjr_xxmp00000gn/T/ipykernel_2346/410145529.py:65: VisibleDeprecationWarning: Creating an ndarray from ragged nested sequences (which is a list-or-tuple of lists-or-tuples-or ndarrays with different lengths or shapes) is deprecated. If you meant to do this, you must specify 'dtype=object' when creating the ndarray.\n",
      "  Merged = np.array(Merged)\n",
      "/var/folders/wc/c10qf9lx68b8z4gwjr_xxmp00000gn/T/ipykernel_2346/410145529.py:65: VisibleDeprecationWarning: Creating an ndarray from ragged nested sequences (which is a list-or-tuple of lists-or-tuples-or ndarrays with different lengths or shapes) is deprecated. If you meant to do this, you must specify 'dtype=object' when creating the ndarray.\n",
      "  Merged = np.array(Merged)\n"
     ]
    }
   ],
   "source": [
    "XT,YT = DataMerger(['1t','2t'],2,False,1).ClassMerger()\n",
    "\n",
    "\n"
   ]
  },
  {
   "cell_type": "code",
   "execution_count": 59,
   "id": "deeb1181",
   "metadata": {},
   "outputs": [
    {
     "name": "stdout",
     "output_type": "stream",
     "text": [
      "(10000,)\n",
      "(10000, 2)\n"
     ]
    }
   ],
   "source": [
    "print(XT.shape)\n",
    "print(YT.shape)"
   ]
  },
  {
   "cell_type": "code",
   "execution_count": 61,
   "id": "fd3d0061",
   "metadata": {},
   "outputs": [
    {
     "name": "stdout",
     "output_type": "stream",
     "text": [
      "(40000, 229)\n",
      "(10000, 229)\n",
      "(40000, 229, 1)\n",
      "(10000, 229, 1)\n"
     ]
    }
   ],
   "source": [
    "\n",
    "\n",
    "padded_inputs = tf.keras.preprocessing.sequence.pad_sequences(\n",
    "    X, padding=\"post\",dtype='int32'\n",
    ")\n",
    "\n",
    "padded_inputsT = tf.keras.preprocessing.sequence.pad_sequences(\n",
    "    XT, padding=\"post\", maxlen = 229,dtype='int32'\n",
    ")\n",
    "\n",
    "\n",
    "print(padded_inputs.shape)\n",
    "print(padded_inputsT.shape)\n",
    "Xtrain = padded_inputs.reshape(len(X),229,1)\n",
    "Xtest = padded_inputsT.reshape(len(XT),229,1)\n",
    "print(Xtrain.shape)\n",
    "print(Xtest.shape)\n",
    "#print(Xtrain)\n",
    "\n",
    "\n",
    "\n"
   ]
  },
  {
   "cell_type": "code",
   "execution_count": 65,
   "id": "204cf75a",
   "metadata": {},
   "outputs": [
    {
     "name": "stdout",
     "output_type": "stream",
     "text": [
      "tf.Tensor(\n",
      "[[ True  True  True ... False False False]\n",
      " [ True  True  True ... False False False]\n",
      " [ True  True  True ... False False False]\n",
      " ...\n",
      " [ True  True  True ... False False False]\n",
      " [ True  True  True ... False False False]\n",
      " [ True  True  True ... False False False]], shape=(40000, 229), dtype=bool)\n"
     ]
    }
   ],
   "source": [
    "from tensorflow.keras import layers\n",
    "\n",
    "masking_layer = layers.Masking()\n",
    "\n",
    "\n",
    "unmasked_embedding = tf.cast(\n",
    "    tf.tile(tf.expand_dims(padded_inputs, axis=-1), [1, 1, 10]), tf.float32\n",
    ")\n",
    "\n",
    "masked_embedding = masking_layer(unmasked_embedding)\n",
    "print(masked_embedding._keras_mask)\n",
    "\n",
    "\n",
    "\n",
    "inp = Input(shape=(229, 1))\n",
    "\n",
    "\n",
    "masking = keras.layers.Masking(mask_value=0)(inp)\n",
    "\n",
    "lstm_1 = keras.layers.GRU(250, activation='tanh',return_sequences=True)(masking)\n",
    "\n",
    "\n",
    "lstm_2 = keras.layers.GRU(150, activation='tanh',return_sequences=True)(lstm_1)\n",
    "\n",
    "\n",
    "lstm_3 = keras.layers.GRU(150, activation='tanh')(lstm_2)\n",
    "\n",
    "\n",
    "\n",
    "\n",
    "Dense1 = keras.layers.Dense(150,'relu')(lstm_3)\n",
    "\n",
    "\n",
    "Dense2 = keras.layers.Dense(50,'relu')(Dense1)\n",
    "\n",
    "\n",
    "\n",
    "\n",
    "\n",
    "\n",
    "#Dense3 = keras.layers.Dense(10,'relu')(Dense2)\n",
    "\n",
    "#Flatten()\n",
    "\n",
    "#Dense2 = keras.layers.Dense(100,'relu')(Dense1)\n",
    "\n",
    "#Dense3 = keras.layers.Dense(50,'tanh')(Dense2)\n",
    "\n",
    "#Flat  = keras.layers.Flatten()(Dense1)\n",
    "\n",
    "\n",
    "\n",
    "\n",
    "\n",
    "Dense = keras.layers.Dense(2,'softmax')(Dense2)\n",
    "\n",
    "\n",
    "model = keras.models.Model(inputs=inp, outputs=Dense)\n",
    "\n",
    "\n",
    "adam = Adam(learning_rate= 0.001)\n",
    "model.compile(optimizer=adam,loss='categorical_crossentropy',metrics = ['accuracy'])\n",
    "\n",
    "\n",
    "#model = Sequential()\n",
    "\n",
    "#model.add(layers.Masking(mask_value=0.0))\n",
    "\n",
    "#model.add(GRU(units=250,input_shape=(217, 1),activation='tanh',return_sequences=True))\n",
    "\n",
    "#model.add(GRU(units=150,input_shape=(217, 1),activation='tanh',return_sequences=True))\n",
    "\n",
    "#model.add(GRU(units=150,input_shape=(217, 1),activation='tanh'))\n",
    "\n",
    "#model.add(Dense(150,activation  = 'relu'))\n",
    "\n",
    "#model.add(Dense(50,activation  = 'relu'))\n",
    "\n",
    "#model.add(Dense(2, activation = 'softmax'))\n",
    "#model.summary()\n",
    "\n",
    "\n",
    "\n",
    "#model.compile(loss='categorical_crossentropy',\n",
    "#              optimizer=adam,\n",
    "#              metrics=['accuracy'])\n",
    "\n",
    "\n",
    "#model.summary()"
   ]
  },
  {
   "cell_type": "code",
   "execution_count": 66,
   "id": "de71ee41",
   "metadata": {},
   "outputs": [
    {
     "name": "stdout",
     "output_type": "stream",
     "text": [
      "Epoch 1/5\n",
      "800/800 [==============================] - 856s 1s/step - loss: 0.1097 - accuracy: 0.9353 - val_loss: 0.0088 - val_accuracy: 0.9972\n",
      "Epoch 2/5\n",
      "800/800 [==============================] - 996s 1s/step - loss: 0.0156 - accuracy: 0.9940 - val_loss: 0.0049 - val_accuracy: 0.9985\n",
      "Epoch 3/5\n",
      "800/800 [==============================] - 864s 1s/step - loss: 0.0145 - accuracy: 0.9951 - val_loss: 0.0377 - val_accuracy: 0.9875\n",
      "Epoch 4/5\n",
      "800/800 [==============================] - 862s 1s/step - loss: 0.0208 - accuracy: 0.9926 - val_loss: 0.0044 - val_accuracy: 0.9978\n",
      "Epoch 5/5\n",
      "800/800 [==============================] - 935s 1s/step - loss: 0.0136 - accuracy: 0.9951 - val_loss: 0.0045 - val_accuracy: 0.9978\n",
      "Model: \"model_3\"\n",
      "_________________________________________________________________\n",
      " Layer (type)                Output Shape              Param #   \n",
      "=================================================================\n",
      " input_4 (InputLayer)        [(None, 229, 1)]          0         \n",
      "                                                                 \n",
      " masking_7 (Masking)         (None, 229, 1)            0         \n",
      "                                                                 \n",
      " gru_9 (GRU)                 (None, 229, 250)          189750    \n",
      "                                                                 \n",
      " gru_10 (GRU)                (None, 229, 150)          180900    \n",
      "                                                                 \n",
      " gru_11 (GRU)                (None, 150)               135900    \n",
      "                                                                 \n",
      " dense_9 (Dense)             (None, 150)               22650     \n",
      "                                                                 \n",
      " dense_10 (Dense)            (None, 50)                7550      \n",
      "                                                                 \n",
      " dense_11 (Dense)            (None, 2)                 102       \n",
      "                                                                 \n",
      "=================================================================\n",
      "Total params: 536,852\n",
      "Trainable params: 536,852\n",
      "Non-trainable params: 0\n",
      "_________________________________________________________________\n"
     ]
    }
   ],
   "source": [
    "RNNM = model.fit(Xtrain,Y, epochs = 5, batch_size = 50,validation_data=(Xtest,YT))\n",
    "model.summary()"
   ]
  },
  {
   "cell_type": "code",
   "execution_count": 67,
   "id": "4cd0f988",
   "metadata": {},
   "outputs": [
    {
     "data": {
      "image/png": "[encoded data removed]",
      "text/plain": [
       "<Figure size 640x480 with 1 Axes>"
      ]
     },
     "metadata": {},
     "output_type": "display_data"
    }
   ],
   "source": [
    "plt.figure()\n",
    "plt.ylabel('Loss / Accuracy')\n",
    "plt.xlabel('Epoch')\n",
    "for k in RNNM.history.keys():\n",
    "    plt.plot(RNNM.history[k], label = k) \n",
    "plt.legend(loc='best')\n",
    "plt.show()"
   ]
  },
  {
   "cell_type": "code",
   "execution_count": 22,
   "id": "8ed149f7",
   "metadata": {},
   "outputs": [
    {
     "name": "stdout",
     "output_type": "stream",
     "text": [
      "63/63 [==============================] - 10s 165ms/step\n",
      "[[0.998998   0.00299401]\n",
      " [0.001002   0.99700599]]\n"
     ]
    }
   ],
   "source": [
    "#sklearn for confusion_matrix look up \n",
    "from sklearn.metrics import confusion_matrix\n",
    "\n",
    "#Predict\n",
    "y_prediction = model.predict(Xtest)\n",
    "y_prediction = np.argmax (y_prediction, axis = 1)\n",
    "\n",
    "y_test=np.argmax(Ytest, axis=1)\n",
    "\n",
    "result = confusion_matrix(y_test, y_prediction , normalize='pred')\n",
    "print(result)\n",
    "\n",
    "#Create confusion matrix and normalizes it over predicted (columns)\n",
    "#result = confusion_matrix(Ytest, y_prediction , normalize='pred')\n",
    "\n"
   ]
  },
  {
   "cell_type": "code",
   "execution_count": 25,
   "id": "c44ba413",
   "metadata": {},
   "outputs": [
    {
     "data": {
      "text/plain": [
       "<matplotlib.image.AxesImage at 0x7fdf8f891c00>"
      ]
     },
     "execution_count": 25,
     "metadata": {},
     "output_type": "execute_result"
    },
    {
     "data": {
      "image/png": "[encoded data removed]",
      "text/plain": [
       "<Figure size 480x480 with 1 Axes>"
      ]
     },
     "metadata": {},
     "output_type": "display_data"
    }
   ],
   "source": [
    "#plt.matshow(result,cmap = 'Blues')"
   ]
  },
  {
   "cell_type": "code",
   "execution_count": 68,
   "id": "6cf367b4",
   "metadata": {},
   "outputs": [],
   "source": [
    "def plot_confusion_matrix(cm,\n",
    "                          target_names,\n",
    "                          title='Confusion matrix',\n",
    "                          cmap=None,\n",
    "                          normalize=True):\n",
    "\n",
    "    import itertools\n",
    "\n",
    "    accuracy = np.trace(cm) / float(np.sum(cm))\n",
    "    misclass = 1 - accuracy\n",
    "\n",
    "    if cmap is None:\n",
    "        cmap = plt.get_cmap('Blues')\n",
    "\n",
    "    plt.figure(figsize=(8, 6))\n",
    "    plt.imshow(cm, interpolation='nearest', cmap=cmap)\n",
    "    plt.title(title)\n",
    "    plt.colorbar()\n",
    "    #plt.ylim([-0.5, cm.shape[0]-0.5])\n",
    "\n",
    "    if target_names is not None:\n",
    "        tick_marks = np.arange(len(target_names))\n",
    "        plt.xticks(tick_marks, target_names, rotation=45)\n",
    "        plt.yticks(tick_marks, target_names)\n",
    "\n",
    "    if normalize:\n",
    "        cm = cm.astype('float') / cm.sum(axis=1)[:, np.newaxis]\n",
    "\n",
    "\n",
    "    thresh = cm.max() / 1.5 if normalize else cm.max() / 2\n",
    "    for i, j in itertools.product(range(cm.shape[0]), range(cm.shape[1])):\n",
    "        if normalize:\n",
    "            plt.text(j, i, \"{:0.4f}\".format(cm[i, j]),\n",
    "                     horizontalalignment=\"center\",\n",
    "                     color=\"white\" if cm[i, j] > thresh else \"black\")\n",
    "        else:\n",
    "            plt.text(j, i, \"{:,}\".format(cm[i, j]),\n",
    "                     horizontalalignment=\"center\",\n",
    "                     color=\"white\" if cm[i, j] > thresh else \"black\")\n",
    "\n",
    "\n",
    "    plt.tight_layout()\n",
    "    plt.ylabel('True label')\n",
    "    plt.xlabel('Predicted label\\naccuracy={:0.4f}; misclass={:0.4f}'.format(accuracy, misclass))\n",
    "    plt.show()\n",
    "    \n",
    "def multi_stat_3(model = None, x_test = None, y_test = None, lbl = None):\n",
    "    y_pred = model.predict(x_test, verbose=0 )\n",
    "    print(lbl,' log_loss:  ', log_loss(y_test, y_pred, eps=1e-15))\n",
    "\n",
    "    y_true = y_test.argmax(axis=1)\n",
    "    y_pred = y_pred.argmax(axis=1)\n",
    "    print(lbl, ' accuracy:  ',(y_pred==y_true).mean(), '\\n')\n",
    "\n",
    "    target_names = ['class {}'.format(i+1) for i in range(3)]\n",
    "\n",
    "    confuTst = confusion_matrix(y_true, y_pred)\n",
    "    plot_confusion_matrix(cm           = confuTst, \n",
    "                          normalize    = False,\n",
    "                          target_names = target_names,\n",
    "                          title        = \"Confusion Matrix: \" + lbl)"
   ]
  },
  {
   "cell_type": "code",
   "execution_count": 70,
   "id": "fe36bdfc",
   "metadata": {},
   "outputs": [
    {
     "name": "stdout",
     "output_type": "stream",
     "text": [
      "Training  log_loss:   0.005138257660658919\n",
      "Training  accuracy:   0.99825 \n",
      "\n"
     ]
    },
    {
     "data": {
      "image/png": "[encoded data removed]",
      "text/plain": [
       "<Figure size 800x600 with 2 Axes>"
      ]
     },
     "metadata": {},
     "output_type": "display_data"
    },
    {
     "name": "stdout",
     "output_type": "stream",
     "text": [
      "Validation  log_loss:   0.0044830883320400115\n",
      "Validation  accuracy:   0.9978 \n",
      "\n"
     ]
    },
    {
     "data": {
      "image/png": "[encoded data removed]",
      "text/plain": [
       "<Figure size 800x600 with 2 Axes>"
      ]
     },
     "metadata": {},
     "output_type": "display_data"
    }
   ],
   "source": [
    "multi_stat_3(model, Xtrain,Y, 'Training')\n",
    "    \n",
    "multi_stat_3(model, Xtest,YT, 'Validation')"
   ]
  },
  {
   "cell_type": "code",
   "execution_count": null,
   "id": "555a3908",
   "metadata": {},
   "outputs": [],
   "source": []
  }
 ],
 "metadata": {
  "kernelspec": {
   "display_name": "Python 3 (ipykernel)",
   "language": "python",
   "name": "python3"
  },
  "language_info": {
   "codemirror_mode": {
    "name": "ipython",
    "version": 3
   },
   "file_extension": ".py",
   "mimetype": "text/x-python",
   "name": "python",
   "nbconvert_exporter": "python",
   "pygments_lexer": "ipython3",
   "version": "3.10.9"
  }
 },
 "nbformat": 4,
 "nbformat_minor": 5
}
